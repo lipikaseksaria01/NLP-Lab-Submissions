{
 "cells": [
  {
   "cell_type": "code",
   "execution_count": 22,
   "metadata": {},
   "outputs": [],
   "source": [
    "import pandas as pd\n",
    "import numpy as np\n",
    "import torch\n",
    "import torch.nn as nn\n",
    "import torch.optim as optim\n",
    "from torchtext.vocab import GloVe\n",
    "from sklearn.model_selection import train_test_split\n",
    "from sklearn.preprocessing import LabelEncoder\n",
    "from torch.utils.data import DataLoader, TensorDataset\n",
    "import torchtext\n",
    "import warnings\n"
   ]
  },
  {
   "cell_type": "code",
   "execution_count": 34,
   "metadata": {},
   "outputs": [
    {
     "data": {
      "text/plain": [
       "(1000, 2)"
      ]
     },
     "execution_count": 34,
     "metadata": {},
     "output_type": "execute_result"
    }
   ],
   "source": [
    "df = pd.read_csv('IMDB Dataset.csv')\n",
    "df = df.iloc[:1000,:]\n",
    "df.shape\n"
   ]
  },
  {
   "cell_type": "code",
   "execution_count": 35,
   "metadata": {},
   "outputs": [],
   "source": [
    "le = LabelEncoder()\n",
    "df['sentiment'] = le.fit_transform(df['sentiment']) "
   ]
  },
  {
   "cell_type": "code",
   "execution_count": 36,
   "metadata": {},
   "outputs": [],
   "source": [
    "import re\n",
    "def preprocess_text(text):\n",
    "    text = text.lower()\n",
    "    text = re.sub(r\"[^a-zA-Z\\s]\", \"\", text)\n",
    "    return text\n",
    "\n",
    "df['review'] = df['review'].apply(preprocess_text)"
   ]
  },
  {
   "cell_type": "code",
   "execution_count": 37,
   "metadata": {},
   "outputs": [],
   "source": [
    "X_train, X_test, y_train, y_test = train_test_split(df['review'], df['sentiment'], test_size=0.2, random_state=42)\n",
    "\n",
    "# Define a function to tokenize and pad sequences\n",
    "from torchtext.data.utils import get_tokenizer\n",
    "from torch.nn.utils.rnn import pad_sequence\n",
    "\n",
    "tokenizer = get_tokenizer(\"basic_english\")\n",
    "\n",
    "def tokenize_and_pad(texts, vocab, max_length):\n",
    "    tokens = [torch.tensor([vocab[word] for word in tokenizer(text) if word in vocab]) for text in texts]\n",
    "    return pad_sequence(tokens, batch_first=True, padding_value=vocab['<pad>'])\n",
    "\n",
    "# Load GloVe embeddings\n",
    "glove = GloVe(name='6B', dim=100)\n",
    "\n",
    "# Create vocabulary and embeddings matrix\n",
    "vocab = glove.stoi.copy()\n",
    "vocab['<pad>'] = len(vocab)  # Add <pad> token at the end\n",
    "vocab['<unk>'] = len(vocab)  # Add <unk> token at the end\n",
    "\n",
    "embedding_dim = 100\n",
    "embedding_matrix = np.zeros((len(vocab), embedding_dim))\n",
    "\n",
    "for word, idx in vocab.items():\n",
    "    if idx < len(glove.vectors):  # Ensure the index does not exceed GloVe size\n",
    "        embedding_matrix[idx] = glove[word]\n",
    "    else:\n",
    "        embedding_matrix[idx] = np.random.normal(scale=0.6, size=(embedding_dim,))  # Random initialization for new tokens\n",
    "\n",
    "max_length = 200\n",
    "X_train = tokenize_and_pad(X_train, vocab, max_length)\n",
    "X_test = tokenize_and_pad(X_test, vocab, max_length)\n",
    "\n",
    "# Convert labels to tensors\n",
    "y_train = torch.tensor(y_train.values)\n",
    "y_test = torch.tensor(y_test.values)\n",
    "\n",
    "# Create DataLoader\n",
    "train_data = TensorDataset(X_train, y_train)\n",
    "test_data = TensorDataset(X_test, y_test)\n",
    "train_loader = DataLoader(train_data, batch_size=64, shuffle=True)\n",
    "test_loader = DataLoader(test_data, batch_size=64)"
   ]
  },
  {
   "cell_type": "code",
   "execution_count": 38,
   "metadata": {},
   "outputs": [],
   "source": [
    "class VanillaRNN(nn.Module):\n",
    "    def __init__(self, vocab_size, embed_dim, hidden_dim, output_dim, pretrained_embeddings):\n",
    "        super(VanillaRNN, self).__init__()\n",
    "        self.embedding = nn.Embedding.from_pretrained(torch.tensor(pretrained_embeddings, dtype=torch.float32), freeze=False)\n",
    "        self.rnn = nn.RNN(embed_dim, hidden_dim, batch_first=True)\n",
    "        self.fc = nn.Linear(hidden_dim, output_dim)\n",
    "\n",
    "    def forward(self, x):\n",
    "        embedded = self.embedding(x)\n",
    "        output, hidden = self.rnn(embedded)\n",
    "        return self.fc(hidden.squeeze(0))\n",
    "\n",
    "# Initialize the model\n",
    "rnn_model = VanillaRNN(len(vocab), embedding_dim, hidden_dim=128, output_dim=1, pretrained_embeddings=embedding_matrix)\n"
   ]
  },
  {
   "cell_type": "code",
   "execution_count": 39,
   "metadata": {},
   "outputs": [],
   "source": [
    "class LSTMModel(nn.Module):\n",
    "    def __init__(self, vocab_size, embed_dim, hidden_dim, output_dim, pretrained_embeddings):\n",
    "        super(LSTMModel, self).__init__()\n",
    "        self.embedding = nn.Embedding.from_pretrained(torch.tensor(pretrained_embeddings, dtype=torch.float32), freeze=False)\n",
    "        self.lstm = nn.LSTM(embed_dim, hidden_dim, batch_first=True)\n",
    "        self.fc = nn.Linear(hidden_dim, output_dim)\n",
    "\n",
    "    def forward(self, x):\n",
    "        embedded = self.embedding(x)\n",
    "        output, (hidden, cell) = self.lstm(embedded)\n",
    "        return self.fc(hidden.squeeze(0))\n",
    "\n",
    "# Initialize the model\n",
    "lstm_model = LSTMModel(len(vocab), embedding_dim, hidden_dim=128, output_dim=1, pretrained_embeddings=embedding_matrix)\n"
   ]
  },
  {
   "cell_type": "code",
   "execution_count": 40,
   "metadata": {},
   "outputs": [],
   "source": [
    "def train(model, loader, criterion, optimizer):\n",
    "    model.train()\n",
    "    total_loss = 0\n",
    "    for inputs, labels in loader:\n",
    "        optimizer.zero_grad()\n",
    "        outputs = model(inputs)\n",
    "        loss = criterion(outputs.squeeze(), labels.float())\n",
    "        loss.backward()\n",
    "        optimizer.step()\n",
    "        total_loss += loss.item()\n",
    "    return total_loss / len(loader)\n",
    "\n",
    "def evaluate(model, loader, criterion):\n",
    "    model.eval()\n",
    "    total_loss = 0\n",
    "    with torch.no_grad():\n",
    "        for inputs, labels in loader:\n",
    "            outputs = model(inputs)\n",
    "            loss = criterion(outputs.squeeze(), labels.float())\n",
    "            total_loss += loss.item()\n",
    "    return total_loss / len(loader)\n"
   ]
  },
  {
   "cell_type": "code",
   "execution_count": 41,
   "metadata": {},
   "outputs": [],
   "source": [
    "# Hyperparameters\n",
    "num_epochs = 5\n",
    "learning_rate = 0.001\n",
    "\n",
    "# Loss and optimizer\n",
    "criterion = nn.MSELoss()\n",
    "rnn_optimizer = optim.Adam(rnn_model.parameters(), lr=learning_rate)\n",
    "lstm_optimizer = optim.Adam(lstm_model.parameters(), lr=learning_rate)"
   ]
  },
  {
   "cell_type": "code",
   "execution_count": 42,
   "metadata": {},
   "outputs": [
    {
     "name": "stdout",
     "output_type": "stream",
     "text": [
      "Epoch 1, RNN Train Loss: 0.3244, RNN Val Loss: 0.2527\n",
      "Epoch 2, RNN Train Loss: 0.2568, RNN Val Loss: 0.2534\n",
      "Epoch 3, RNN Train Loss: 0.2554, RNN Val Loss: 0.2573\n",
      "Epoch 4, RNN Train Loss: 0.2592, RNN Val Loss: 0.2564\n",
      "Epoch 5, RNN Train Loss: 0.2554, RNN Val Loss: 0.2604\n"
     ]
    }
   ],
   "source": [
    "for epoch in range(num_epochs):\n",
    "    rnn_train_loss = train(rnn_model, train_loader, criterion, rnn_optimizer)\n",
    "    rnn_val_loss = evaluate(rnn_model, test_loader, criterion)\n",
    "    print(f\"Epoch {epoch+1}, RNN Train Loss: {rnn_train_loss:.4f}, RNN Val Loss: {rnn_val_loss:.4f}\")"
   ]
  },
  {
   "cell_type": "code",
   "execution_count": 43,
   "metadata": {},
   "outputs": [
    {
     "name": "stdout",
     "output_type": "stream",
     "text": [
      "Epoch 1, LSTM Train Loss: 0.2773, LSTM Val Loss: 0.2550\n",
      "Epoch 2, LSTM Train Loss: 0.2518, LSTM Val Loss: 0.2563\n",
      "Epoch 3, LSTM Train Loss: 0.2524, LSTM Val Loss: 0.2532\n",
      "Epoch 4, LSTM Train Loss: 0.2536, LSTM Val Loss: 0.2532\n",
      "Epoch 5, LSTM Train Loss: 0.2525, LSTM Val Loss: 0.2526\n"
     ]
    }
   ],
   "source": [
    "# Train LSTM\n",
    "for epoch in range(num_epochs):\n",
    "    lstm_train_loss = train(lstm_model, train_loader, criterion, lstm_optimizer)\n",
    "    lstm_val_loss = evaluate(lstm_model, test_loader, criterion)\n",
    "    print(f\"Epoch {epoch+1}, LSTM Train Loss: {lstm_train_loss:.4f}, LSTM Val Loss: {lstm_val_loss:.4f}\")"
   ]
  },
  {
   "cell_type": "markdown",
   "metadata": {},
   "source": [
    "Implement Models with On-the-Fly Embeddings\n"
   ]
  },
  {
   "cell_type": "code",
   "execution_count": 44,
   "metadata": {},
   "outputs": [],
   "source": [
    "class VanillaRNNOnTheFly(nn.Module):\n",
    "    def __init__(self, vocab_size, embed_dim, hidden_dim, output_dim):\n",
    "        super(VanillaRNNOnTheFly, self).__init__()\n",
    "        self.embedding = nn.Embedding(vocab_size, embed_dim)\n",
    "        self.rnn = nn.RNN(embed_dim, hidden_dim, batch_first=True)\n",
    "        self.fc = nn.Linear(hidden_dim, output_dim)\n",
    "\n",
    "    def forward(self, x):\n",
    "        embedded = self.embedding(x)\n",
    "        output, hidden = self.rnn(embedded)\n",
    "        return self.fc(hidden.squeeze(0))\n",
    "\n",
    "# Initialize the model\n",
    "rnn_on_the_fly = VanillaRNNOnTheFly(len(vocab), embedding_dim, hidden_dim=128, output_dim=1)\n"
   ]
  },
  {
   "cell_type": "code",
   "execution_count": 45,
   "metadata": {},
   "outputs": [],
   "source": [
    "class LSTMModelOnTheFly(nn.Module):\n",
    "    def __init__(self, vocab_size, embed_dim, hidden_dim, output_dim):\n",
    "        super(LSTMModelOnTheFly, self).__init__()\n",
    "        self.embedding = nn.Embedding(vocab_size, embed_dim)\n",
    "        self.lstm = nn.LSTM(embed_dim, hidden_dim, batch_first=True)\n",
    "        self.fc = nn.Linear(hidden_dim, output_dim)\n",
    "\n",
    "    def forward(self, x):\n",
    "        embedded = self.embedding(x)\n",
    "        output, (hidden, cell) = self.lstm(embedded)\n",
    "        return self.fc(hidden.squeeze(0))\n",
    "\n",
    "# Initialize the model\n",
    "lstm_on_the_fly = LSTMModelOnTheFly(len(vocab), embedding_dim, hidden_dim=128, output_dim=1)\n"
   ]
  },
  {
   "cell_type": "code",
   "execution_count": 46,
   "metadata": {},
   "outputs": [
    {
     "name": "stdout",
     "output_type": "stream",
     "text": [
      "Epoch 1, RNN Train Loss: 1.0773, RNN Val Loss: 1.0408\n",
      "Epoch 2, RNN Train Loss: 1.0785, RNN Val Loss: 1.0408\n",
      "Epoch 3, RNN Train Loss: 1.0817, RNN Val Loss: 1.0408\n",
      "Epoch 4, RNN Train Loss: 1.0817, RNN Val Loss: 1.0408\n",
      "Epoch 5, RNN Train Loss: 1.0839, RNN Val Loss: 1.0408\n"
     ]
    }
   ],
   "source": [
    "for epoch in range(num_epochs):\n",
    "    rnn_train_loss = train(rnn_on_the_fly, train_loader, criterion, rnn_optimizer)\n",
    "    rnn_val_loss = evaluate(rnn_on_the_fly, test_loader, criterion)\n",
    "    print(f\"Epoch {epoch+1}, RNN Train Loss: {rnn_train_loss:.4f}, RNN Val Loss: {rnn_val_loss:.4f}\")"
   ]
  },
  {
   "cell_type": "code",
   "execution_count": 47,
   "metadata": {},
   "outputs": [
    {
     "name": "stdout",
     "output_type": "stream",
     "text": [
      "Epoch 1, LSTM Train Loss: 0.8610, LSTM Val Loss: 0.8219\n",
      "Epoch 2, LSTM Train Loss: 0.8517, LSTM Val Loss: 0.8219\n",
      "Epoch 3, LSTM Train Loss: 0.8592, LSTM Val Loss: 0.8219\n",
      "Epoch 4, LSTM Train Loss: 0.8536, LSTM Val Loss: 0.8219\n",
      "Epoch 5, LSTM Train Loss: 0.8517, LSTM Val Loss: 0.8219\n"
     ]
    }
   ],
   "source": [
    "# Train LSTM\n",
    "for epoch in range(num_epochs):\n",
    "    lstm_train_loss = train(lstm_on_the_fly, train_loader, criterion, lstm_optimizer)\n",
    "    lstm_val_loss = evaluate(lstm_on_the_fly, test_loader, criterion)\n",
    "    print(f\"Epoch {epoch+1}, LSTM Train Loss: {lstm_train_loss:.4f}, LSTM Val Loss: {lstm_val_loss:.4f}\")"
   ]
  },
  {
   "cell_type": "code",
   "execution_count": null,
   "metadata": {},
   "outputs": [],
   "source": []
  }
 ],
 "metadata": {
  "kernelspec": {
   "display_name": "Python 3",
   "language": "python",
   "name": "python3"
  },
  "language_info": {
   "codemirror_mode": {
    "name": "ipython",
    "version": 3
   },
   "file_extension": ".py",
   "mimetype": "text/x-python",
   "name": "python",
   "nbconvert_exporter": "python",
   "pygments_lexer": "ipython3",
   "version": "3.12.3"
  }
 },
 "nbformat": 4,
 "nbformat_minor": 2
}
